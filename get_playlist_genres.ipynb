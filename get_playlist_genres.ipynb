{
 "cells": [
  {
   "cell_type": "code",
   "execution_count": 1,
   "metadata": {},
   "outputs": [],
   "source": [
    "import spotipy\n",
    "from spotipy.oauth2 import SpotifyOAuth\n",
    "import json\n",
    "import utils"
   ]
  },
  {
   "cell_type": "code",
   "execution_count": 2,
   "metadata": {},
   "outputs": [],
   "source": [
    "spotify = utils.auth()"
   ]
  },
  {
   "cell_type": "code",
   "execution_count": 9,
   "metadata": {},
   "outputs": [
    {
     "name": "stdout",
     "output_type": "stream",
     "text": [
      "Found 65 playlists.\n"
     ]
    }
   ],
   "source": [
    "my_playlists = utils.get_my_playlists(spotify)\n",
    "playlists_by_name = {p['name']:p['id'] for p in my_playlists}"
   ]
  },
  {
   "cell_type": "code",
   "execution_count": 6,
   "metadata": {},
   "outputs": [],
   "source": [
    "def get_playlist_genres(playlist_id):\n",
    "    genre_counts = {}\n",
    "    tracks = spotify.playlist_items(playlist_id)['items']\n",
    "    for t in tracks:\n",
    "        if t['added_by']['id'] == spotify.me()[\"id\"]:\n",
    "            artists = [artist_info for artist_info in t[\"track\"][\"artists\"]]\n",
    "            for a in artists:\n",
    "                print(a['name'])\n",
    "                genres = spotify.artist(a['id'])['genres']\n",
    "                print(genres)\n",
    "                for g in genres:\n",
    "                    if g in genre_counts:\n",
    "                        genre_counts[g] += 1\n",
    "                    else:\n",
    "                        genre_counts[g] = 1\n",
    "    return genre_counts"
   ]
  },
  {
   "cell_type": "code",
   "execution_count": 11,
   "metadata": {},
   "outputs": [
    {
     "name": "stdout",
     "output_type": "stream",
     "text": [
      "Calimossa\n",
      "[]\n",
      "Mosie\n",
      "[]\n",
      "No Suits\n",
      "['la pop']\n",
      "Tommy Newport\n",
      "['kansas indie']\n",
      "No Suits\n",
      "['la pop']\n",
      "Oliver Malcolm\n",
      "['indie hip hop', 'modern alternative pop']\n",
      "Calimossa\n",
      "[]\n",
      "Calimossa\n",
      "[]\n",
      "SEB\n",
      "[]\n",
      "J. Hutton\n",
      "['canadian contemporary r&b']\n",
      "IshDARR\n",
      "['canadian hip hop', 'milwaukee hip hop', 'underground hip hop']\n",
      "IshDARR\n",
      "['canadian hip hop', 'milwaukee hip hop', 'underground hip hop']\n",
      "Robby Hunter Band\n",
      "['funk rock', 'miami indie']\n",
      "J. Hutton\n",
      "['canadian contemporary r&b']\n"
     ]
    },
    {
     "data": {
      "text/plain": [
       "{'la pop': 2,\n",
       " 'kansas indie': 1,\n",
       " 'indie hip hop': 1,\n",
       " 'modern alternative pop': 1,\n",
       " 'canadian contemporary r&b': 2,\n",
       " 'canadian hip hop': 2,\n",
       " 'milwaukee hip hop': 2,\n",
       " 'underground hip hop': 2,\n",
       " 'funk rock': 1,\n",
       " 'miami indie': 1}"
      ]
     },
     "execution_count": 11,
     "metadata": {},
     "output_type": "execute_result"
    }
   ],
   "source": [
    "get_playlist_genres(playlists_by_name['bumpin'])"
   ]
  },
  {
   "cell_type": "code",
   "execution_count": null,
   "metadata": {},
   "outputs": [],
   "source": []
  }
 ],
 "metadata": {
  "kernelspec": {
   "display_name": "spotify_scripts-9ME2ElAX",
   "language": "python",
   "name": "python3"
  },
  "language_info": {
   "codemirror_mode": {
    "name": "ipython",
    "version": 3
   },
   "file_extension": ".py",
   "mimetype": "text/x-python",
   "name": "python",
   "nbconvert_exporter": "python",
   "pygments_lexer": "ipython3",
   "version": "3.10.11"
  },
  "orig_nbformat": 4
 },
 "nbformat": 4,
 "nbformat_minor": 2
}
