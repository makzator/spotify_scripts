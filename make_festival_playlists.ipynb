{
 "cells": [
  {
   "cell_type": "code",
   "execution_count": null,
   "metadata": {},
   "outputs": [],
   "source": [
    "import spotipy\n",
    "from spotipy.oauth2 import SpotifyOAuth\n",
    "import json\n",
    "import Levenshtein\n",
    "\n",
    "import utils"
   ]
  },
  {
   "cell_type": "code",
   "execution_count": null,
   "metadata": {},
   "outputs": [],
   "source": [
    "spotify = utils.auth()"
   ]
  },
  {
   "cell_type": "code",
   "execution_count": null,
   "metadata": {},
   "outputs": [],
   "source": [
    "track_limit = 5\n",
    "festival_artist_file = 'artist_lists/heatwave_artists.txt'\n",
    "playlist_title = f'Heatwave (top {track_limit})'"
   ]
  },
  {
   "attachments": {},
   "cell_type": "markdown",
   "metadata": {},
   "source": [
    "# Finding song overlap"
   ]
  },
  {
   "cell_type": "code",
   "execution_count": null,
   "metadata": {},
   "outputs": [],
   "source": [
    "my_songs_sorted = utils.get_my_playlist_songs(spotify)"
   ]
  },
  {
   "cell_type": "code",
   "execution_count": null,
   "metadata": {},
   "outputs": [],
   "source": [
    "artists_with_songs = {}\n",
    "for song in my_songs_sorted:\n",
    "    for a in song[\"artists\"]:\n",
    "        artist = a['name']\n",
    "        if artist in artists_with_songs:\n",
    "            artists_with_songs[artist].append(song[\"name\"])\n",
    "        else:\n",
    "            artists_with_songs[artist] = [song[\"name\"]]\n",
    "my_artists = list(artists_with_songs.keys())"
   ]
  },
  {
   "cell_type": "code",
   "execution_count": null,
   "metadata": {},
   "outputs": [],
   "source": [
    "artists_with_songs"
   ]
  },
  {
   "cell_type": "code",
   "execution_count": null,
   "metadata": {},
   "outputs": [],
   "source": [
    "def check_str_in_list(s, ls, max_dist=1):\n",
    "    matches = []\n",
    "    for _s in ls:\n",
    "        if Levenshtein.distance(s, _s, processor=str.upper) <= max_dist:\n",
    "            matches.append(_s)\n",
    "    return matches"
   ]
  },
  {
   "cell_type": "code",
   "execution_count": null,
   "metadata": {},
   "outputs": [],
   "source": [
    "festival_artists = []\n",
    "with open(festival_artist_file) as f:\n",
    "    lines = f.readlines()\n",
    "    for line in lines:\n",
    "        if line[-1:] == \"\\n\":\n",
    "            line = line[:-1]\n",
    "        if line == \"\":\n",
    "            continue\n",
    "        festival_artists.append(line)"
   ]
  },
  {
   "cell_type": "code",
   "execution_count": null,
   "metadata": {},
   "outputs": [],
   "source": [
    "for artist in festival_artists:\n",
    "    matches = check_str_in_list(artist, my_artists, max_dist=1)\n",
    "    if matches != []:\n",
    "        print(artist)\n",
    "        for m in matches:\n",
    "            print(\"\\t\", m)\n",
    "            for song in artists_with_songs[m]:\n",
    "                print(\"\\t\\t\", song)"
   ]
  },
  {
   "attachments": {},
   "cell_type": "markdown",
   "metadata": {},
   "source": [
    "# Finding top tracks of festival artists"
   ]
  },
  {
   "cell_type": "code",
   "execution_count": null,
   "metadata": {},
   "outputs": [],
   "source": [
    "def get_top_tracks(artist_name, track_limit=10):\n",
    "    if artist_name[:2] == \"??\":\n",
    "        print(f\"{artist_name[2:]} not on Spotify - skipped\")\n",
    "        return None\n",
    "    print(f\"search for: {artist_name}\")\n",
    "    artist_result = spotify.search(q=f\"artist:{artist_name}\", type=\"artist\")\n",
    "    if len(artist_result['artists']['items']) == 0:\n",
    "        print('NO MATCH FOUND')\n",
    "        return None\n",
    "    best_match = artist_result[\"artists\"][\"items\"][0]\n",
    "    print(f\"\\tbest artist match: {best_match['name']}\")\n",
    "    artist_uri = best_match[\"uri\"]\n",
    "    tracks = spotify.artist_top_tracks(artist_uri)[\"tracks\"][:track_limit]\n",
    "    track_info = {track[\"name\"]: track[\"uri\"] for track in tracks}\n",
    "    return track_info"
   ]
  },
  {
   "cell_type": "code",
   "execution_count": null,
   "metadata": {},
   "outputs": [],
   "source": [
    "festival_artist_tracks = {}\n",
    "for artist_name in festival_artists:\n",
    "    track_info = get_top_tracks(artist_name, track_limit)\n",
    "    if track_info is not None:\n",
    "        festival_artist_tracks[artist_name] = track_info"
   ]
  },
  {
   "cell_type": "code",
   "execution_count": null,
   "metadata": {},
   "outputs": [],
   "source": [
    "playlist = spotify.user_playlist_create(spotify.me()[\"id\"], playlist_title)"
   ]
  },
  {
   "cell_type": "code",
   "execution_count": null,
   "metadata": {},
   "outputs": [],
   "source": [
    "for artist_name, track_info in festival_artist_tracks.items():\n",
    "    print(f\"adding tracks from {artist_name}\")\n",
    "    track_uris = list(track_info.values())\n",
    "    try:\n",
    "        spotify.playlist_add_items(playlist['id'], track_uris)\n",
    "        for track_name in track_info.keys():\n",
    "            print(f\"\\tadded track {track_name}\")\n",
    "    except:\n",
    "        print(f\"some error adding songs from {artist_name}\")"
   ]
  },
  {
   "cell_type": "code",
   "execution_count": null,
   "metadata": {},
   "outputs": [],
   "source": []
  }
 ],
 "metadata": {
  "kernelspec": {
   "display_name": "spotify_scripts-9ME2ElAX",
   "language": "python",
   "name": "python3"
  },
  "language_info": {
   "codemirror_mode": {
    "name": "ipython",
    "version": 3
   },
   "file_extension": ".py",
   "mimetype": "text/x-python",
   "name": "python",
   "nbconvert_exporter": "python",
   "pygments_lexer": "ipython3",
   "version": "3.10.11"
  },
  "orig_nbformat": 4
 },
 "nbformat": 4,
 "nbformat_minor": 2
}
