{
 "cells": [
  {
   "cell_type": "code",
   "execution_count": null,
   "metadata": {},
   "outputs": [],
   "source": [
    "import spotipy\n",
    "from spotipy.oauth2 import SpotifyOAuth\n",
    "import json\n",
    "import utils"
   ]
  },
  {
   "cell_type": "code",
   "execution_count": null,
   "metadata": {},
   "outputs": [],
   "source": [
    "spotify = utils.auth()"
   ]
  },
  {
   "cell_type": "code",
   "execution_count": null,
   "metadata": {},
   "outputs": [],
   "source": [
    "my_songs_sorted = utils.get_my_playlist_songs(spotify)"
   ]
  },
  {
   "cell_type": "code",
   "execution_count": null,
   "metadata": {},
   "outputs": [],
   "source": [
    "my_songs_sorted[0]"
   ]
  },
  {
   "cell_type": "code",
   "execution_count": null,
   "metadata": {},
   "outputs": [],
   "source": [
    "artists_with_songs = {}\n",
    "for song in my_songs_sorted:\n",
    "    for i,artist in enumerate(song['artists']):\n",
    "        artist_id = artist['id']\n",
    "        if artist_id in artists_with_songs:\n",
    "            artists_with_songs[artist_id]['times'].append(song['time'])\n",
    "            artists_with_songs[artist_id]['songs'].append(song['id'])\n",
    "        else:\n",
    "            artists_with_songs[artist_id] = {'times':[song['time']], 'songs': [song['id']], 'name':artist['name']}\n",
    "my_artists = list(artists_with_songs.keys())"
   ]
  },
  {
   "cell_type": "code",
   "execution_count": null,
   "metadata": {},
   "outputs": [],
   "source": [
    "artists_with_songs"
   ]
  },
  {
   "cell_type": "code",
   "execution_count": null,
   "metadata": {},
   "outputs": [],
   "source": [
    "time_genres = []\n",
    "for s in my_songs_sorted:\n",
    "    for i,artist in enumerate(s['artists']):\n",
    "        print(artist['name'])\n",
    "        genres = spotify.artist(artist['id'])['genres']\n",
    "        print(genres)\n",
    "        for g in genres:\n",
    "            time_genres.append({'time':s['time'], 'genre':g})"
   ]
  },
  {
   "cell_type": "code",
   "execution_count": null,
   "metadata": {},
   "outputs": [],
   "source": [
    "import pandas as pd\n",
    "\n",
    "current_year = int(time_genres[0]['time'][:4])\n",
    "current_month = int(time_genres[0]['time'][5:7])\n",
    "\n",
    "total_genre_counts = {}\n",
    "monthly_genres = {current_year:{current_month:{}}}\n",
    "for tg in time_genres:\n",
    "    month = int(tg['time'][5:7])\n",
    "    year = int(tg['time'][:4])\n",
    "    g = tg['genre']\n",
    "    if year != current_year and month != current_month:\n",
    "        current_month = month\n",
    "        current_year = year\n",
    "    if (year in monthly_genres):\n",
    "        if (month in monthly_genres[year]):\n",
    "            if (g in monthly_genres[year][month]):\n",
    "                monthly_genres[year][month][g] += 1\n",
    "            else:\n",
    "                monthly_genres[year][month][g] = 1\n",
    "        else:\n",
    "            monthly_genres[year][month] = {g:1}\n",
    "    else:\n",
    "        monthly_genres[year] = {month:{g:1}}\n",
    "\n",
    "    if g in total_genre_counts:\n",
    "        total_genre_counts[g] += 1\n",
    "    else:\n",
    "        total_genre_counts[g] = 1\n",
    "sorted_total_genre_counts = sorted(total_genre_counts.items(), key = lambda g : total_genre_counts[g[0]])\n",
    "\n",
    "monthly_genre_df = pd.DataFrame({'year':[], 'month':[], 'genre':[], 'count':[]})\n",
    "for y in monthly_genres:\n",
    "    for m in monthly_genres[y]:\n",
    "        for g,c in monthly_genres[y][m].items():\n",
    "            monthly_genre_df.loc[len(monthly_genre_df)] = [y, m, g, c]"
   ]
  },
  {
   "cell_type": "code",
   "execution_count": null,
   "metadata": {},
   "outputs": [],
   "source": [
    "def month_year_iter(start_month, start_year, end_month, end_year):\n",
    "    ym_start= 12*start_year + start_month - 1\n",
    "    ym_end= 12*end_year + end_month - 1\n",
    "    for ym in range(ym_start, ym_end):\n",
    "        y, m = divmod(ym, 12)\n",
    "        yield y, m+1\n",
    "\n",
    "first_year = int(time_genres[0]['time'][:4])\n",
    "last_year = int(time_genres[-1]['time'][:4])\n",
    "first_month = int(time_genres[0]['time'][5:7])\n",
    "last_month = int(time_genres[-1]['time'][5:7])\n",
    "\n",
    "genre_count_lists = {}\n",
    "elapsed_months = 0\n",
    "yearmonths = []\n",
    "n_genre_keep_per_month = 2\n",
    "top_genres = []\n",
    "for y in range(first_year, last_year+1):\n",
    "    year_data = monthly_genre_df[monthly_genre_df['year'] == y]\n",
    "    for m in range(1,13):\n",
    "        if not ((y == first_year and m < first_month) or (y == last_year and m > last_month)):\n",
    "            month_data = year_data[year_data['month'] == m]\n",
    "            top_n = month_data.nlargest(n_genre_keep_per_month, 'count')['genre']\n",
    "            for g in top_n:\n",
    "                if g not in top_genres:\n",
    "                    top_genres.append(g)\n",
    "\n",
    "            for row in month_data.iterrows():\n",
    "                g = row[1]['genre']\n",
    "                c = row[1]['count']\n",
    "                if g in genre_count_lists:\n",
    "                    genre_count_lists[g].append(c)\n",
    "                else:\n",
    "                    genre_count_lists[g] = [0]*elapsed_months + [c]\n",
    "            elapsed_months += 1\n",
    "            yearmonths.append((y, m))\n",
    "for g,counts in genre_count_lists.items():\n",
    "    counts += [0] * (elapsed_months - len(counts))"
   ]
  },
  {
   "cell_type": "code",
   "execution_count": null,
   "metadata": {},
   "outputs": [],
   "source": [
    "sorted_total_genre_counts"
   ]
  },
  {
   "cell_type": "code",
   "execution_count": null,
   "metadata": {},
   "outputs": [],
   "source": [
    "len(sorted_total_genre_counts)"
   ]
  },
  {
   "cell_type": "code",
   "execution_count": null,
   "metadata": {},
   "outputs": [],
   "source": [
    "import matplotlib.pyplot as plt\n",
    "\n",
    "fig,ax = plt.subplots(figsize=(18,6))\n",
    "\n",
    "n = 10\n",
    "top_n_genres = [s[0] for s in sorted_total_genre_counts[-n:]]\n",
    "yearmonth_strings = [str(y)+'-'+str(m) for y,m in yearmonths]\n",
    "for g,counts in genre_count_lists.items():\n",
    "    if g in top_n_genres:\n",
    "        plt.plot(yearmonth_strings, counts, label=g)\n",
    "plt.legend()\n",
    "plt.xticks(rotation=60, ha='right')\n",
    "plt.show()"
   ]
  },
  {
   "cell_type": "code",
   "execution_count": null,
   "metadata": {},
   "outputs": [],
   "source": []
  }
 ],
 "metadata": {
  "kernelspec": {
   "display_name": "spotify_scripts-9ME2ElAX",
   "language": "python",
   "name": "python3"
  },
  "language_info": {
   "codemirror_mode": {
    "name": "ipython",
    "version": 3
   },
   "file_extension": ".py",
   "mimetype": "text/x-python",
   "name": "python",
   "nbconvert_exporter": "python",
   "pygments_lexer": "ipython3",
   "version": "3.10.11"
  },
  "orig_nbformat": 4
 },
 "nbformat": 4,
 "nbformat_minor": 2
}
