{
 "cells": [
  {
   "cell_type": "code",
   "execution_count": null,
   "metadata": {},
   "outputs": [],
   "source": [
    "import spotipy\n",
    "from spotipy.oauth2 import SpotifyOAuth\n",
    "import json\n",
    "import Levenshtein\n",
    "\n",
    "import utils"
   ]
  },
  {
   "cell_type": "code",
   "execution_count": null,
   "metadata": {},
   "outputs": [],
   "source": [
    "spotify = utils.auth()"
   ]
  },
  {
   "cell_type": "code",
   "execution_count": null,
   "metadata": {},
   "outputs": [],
   "source": [
    "my_playlists = utils.get_my_playlists(spotify)"
   ]
  },
  {
   "cell_type": "code",
   "execution_count": null,
   "metadata": {},
   "outputs": [],
   "source": [
    "[p['name'] for p in my_playlists]"
   ]
  },
  {
   "cell_type": "code",
   "execution_count": null,
   "metadata": {},
   "outputs": [],
   "source": [
    "my_songs_sorted = utils.get_my_playlist_songs(spotify)\n",
    "\n",
    "print(my_songs_sorted[:3])"
   ]
  },
  {
   "attachments": {},
   "cell_type": "markdown",
   "metadata": {},
   "source": [
    "# WARNING: THE NEXT CELL WILL MAKE A LOT OF PLAYLISTS\n",
    "(4 per year for each year you have been on spotify)"
   ]
  },
  {
   "cell_type": "code",
   "execution_count": null,
   "metadata": {},
   "outputs": [],
   "source": [
    "for s in my_songs_sorted:\n",
    "    year = int(s['time'][:4])\n",
    "    month = int(s['time'][5:7])\n",
    "\n",
    "    if month == 12 or month < 3:\n",
    "        season = 'winter'\n",
    "    elif month > 2 and month < 6:\n",
    "        season = 'spring'\n",
    "    elif month > 5 and month < 9:\n",
    "        season = 'summer'\n",
    "    else:\n",
    "        season = 'fall'\n",
    "\n",
    "    if month < 3:\n",
    "        playlist_year = str(year-1)[2:]\n",
    "    else:\n",
    "        playlist_year = str(year)[2:]\n",
    "\n",
    "    playlist_name = season + playlist_year\n",
    "    if playlist_name not in playlists_by_name:\n",
    "        spotify.user_playlist_create(id, playlist_name, False)\n",
    "        my_playlists = utils.get_my_playlists(spotify)\n",
    "        playlists_by_name = {p['name']:p['id'] for p in my_playlists}\n",
    "    \n",
    "    playlist_id = playlists_by_name[playlist_name]\n",
    "    tracks = spotify.playlist_items(playlist_id)['items']\n",
    "    already_in_playlist = False\n",
    "    for t in tracks:\n",
    "        if t['track']['id'] == s['id']:\n",
    "            already_in_playlist = True\n",
    "            break\n",
    "\n",
    "    if not already_in_playlist:\n",
    "        spotify.user_playlist_add_tracks(id, playlist_id, [s['id']])"
   ]
  },
  {
   "attachments": {},
   "cell_type": "markdown",
   "metadata": {},
   "source": [
    "# Adding all songs to a specific playlist"
   ]
  },
  {
   "cell_type": "code",
   "execution_count": null,
   "metadata": {},
   "outputs": [],
   "source": [
    "playlist_id = \"https://open.spotify.com/playlist/6PAWuVQmeAed4SrEHgjw24?si=8465c8744e2f490d&pt=e6af20d85afbf59293ee8413926f88fd\"\n",
    "tracks = spotify.playlist_items(playlist_id)['items']\n",
    "track_ids = {t['track']['id'] for t in tracks}\n",
    "\n",
    "for s in my_songs_sorted:\n",
    "    print(s['name'])\n",
    "    if s['id'] not in track_ids:\n",
    "        spotify.user_playlist_add_tracks(id, playlist_id, [s['id']])\n",
    "        print('  added')"
   ]
  }
 ],
 "metadata": {
  "kernelspec": {
   "display_name": "spotify_scripts-9ME2ElAX",
   "language": "python",
   "name": "python3"
  },
  "language_info": {
   "codemirror_mode": {
    "name": "ipython",
    "version": 3
   },
   "file_extension": ".py",
   "mimetype": "text/x-python",
   "name": "python",
   "nbconvert_exporter": "python",
   "pygments_lexer": "ipython3",
   "version": "3.10.11"
  },
  "orig_nbformat": 4
 },
 "nbformat": 4,
 "nbformat_minor": 2
}
